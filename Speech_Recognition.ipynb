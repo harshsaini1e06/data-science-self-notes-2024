{
 "cells": [
  {
   "cell_type": "code",
   "execution_count": 5,
   "metadata": {},
   "outputs": [],
   "source": [
    "import speech_recognition as sr"
   ]
  },
  {
   "cell_type": "code",
   "execution_count": 6,
   "metadata": {},
   "outputs": [],
   "source": [
    "r=sr.Recognizer()"
   ]
  },
  {
   "cell_type": "code",
   "execution_count": 7,
   "metadata": {},
   "outputs": [
    {
     "name": "stdout",
     "output_type": "stream",
     "text": [
      "['Microsoft Sound Mapper - Input', 'Microphone (Realtek(R) Audio)', 'Microsoft Sound Mapper - Output', 'Speakers (Realtek(R) Audio)', 'Primary Sound Capture Driver', 'Microphone (Realtek(R) Audio)', 'Primary Sound Driver', 'Speakers (Realtek(R) Audio)', 'Speakers (Realtek(R) Audio)', 'Microphone (Realtek(R) Audio)', 'Microphone (Realtek Digital Microphone)', 'Speakers 1 (Realtek HD Audio output with SST)', 'Speakers 2 (Realtek HD Audio output with SST)', 'PC Speaker (Realtek HD Audio output with SST)', 'Headphones 1 (Realtek HD Audio 2nd output with SST)', 'Headphones 2 (Realtek HD Audio 2nd output with SST)', 'PC Speaker (Realtek HD Audio 2nd output with SST)', 'Microphone (Realtek HD Audio Mic input)', 'Stereo Mix (Realtek HD Audio Stereo input)']\n"
     ]
    }
   ],
   "source": [
    "print(sr.Microphone.list_microphone_names())"
   ]
  },
  {
   "cell_type": "code",
   "execution_count": 8,
   "metadata": {},
   "outputs": [
    {
     "name": "stdout",
     "output_type": "stream",
     "text": [
      "say>>Kuch Bolo\n",
      "Ye bola aapne kya hal hai madrachod bahan ke loade gand mara bhosdi wale\n"
     ]
    }
   ],
   "source": [
    "with sr.Microphone() as source:\n",
    "    r.adjust_for_ambient_noise(source)\n",
    "    print('say>>Kuch Bolo')\n",
    "    audio=r.listen(source)\n",
    "    text=r.recognize_google(audio)\n",
    "    print(\"Ye bola aapne\",text)\n"
   ]
  },
  {
   "cell_type": "code",
   "execution_count": null,
   "metadata": {},
   "outputs": [],
   "source": []
  }
 ],
 "metadata": {
  "kernelspec": {
   "display_name": "Python 3",
   "language": "python",
   "name": "python3"
  },
  "language_info": {
   "codemirror_mode": {
    "name": "ipython",
    "version": 3
   },
   "file_extension": ".py",
   "mimetype": "text/x-python",
   "name": "python",
   "nbconvert_exporter": "python",
   "pygments_lexer": "ipython3",
   "version": "3.11.9"
  }
 },
 "nbformat": 4,
 "nbformat_minor": 2
}
