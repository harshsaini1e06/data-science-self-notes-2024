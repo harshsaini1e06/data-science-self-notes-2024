{
 "cells": [
  {
   "cell_type": "code",
   "execution_count": 1,
   "metadata": {},
   "outputs": [
    {
     "name": "stdout",
     "output_type": "stream",
     "text": [
      "<__main__.Son object at 0x000001954B965E10>\n"
     ]
    }
   ],
   "source": [
    "class Father:\n",
    "    def __init__(self,name,age):\n",
    "        self.Father_name = name\n",
    "        self.Father_age = age\n",
    "    def display(self):\n",
    "        print ('mayfather name is : ',self.Father_name)\n",
    "        print ('mayfather age is : ',self.Father_age)    \n",
    "class Son(Father):\n",
    "    def son(self):\n",
    "        print(\"hii byyy\")\n",
    "        print(\"chal bhag yhaa se\")   \n",
    "son_obj = Son(\"rahul\",34)\n",
    "print(son_obj)"
   ]
  },
  {
   "cell_type": "code",
   "execution_count": null,
   "metadata": {},
   "outputs": [],
   "source": []
  }
 ],
 "metadata": {
  "kernelspec": {
   "display_name": "Python 3",
   "language": "python",
   "name": "python3"
  },
  "language_info": {
   "codemirror_mode": {
    "name": "ipython",
    "version": 3
   },
   "file_extension": ".py",
   "mimetype": "text/x-python",
   "name": "python",
   "nbconvert_exporter": "python",
   "pygments_lexer": "ipython3",
   "version": "3.11.9"
  },
  "orig_nbformat": 4
 },
 "nbformat": 4,
 "nbformat_minor": 2
}
