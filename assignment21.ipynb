{
 "cells": [
  {
   "cell_type": "markdown",
   "metadata": {},
   "source": [
    "## Q1"
   ]
  },
  {
   "cell_type": "code",
   "execution_count": 4,
   "metadata": {},
   "outputs": [
    {
     "name": "stdout",
     "output_type": "stream",
     "text": [
      "Driving on the road\n",
      "Flying in the sky\n",
      "Driving and flying\n"
     ]
    }
   ],
   "source": [
    "class Car:\n",
    "    def drive(self):\n",
    "        print(\"Driving on the road\")\n",
    "class Airplane:\n",
    "    def fly(self):\n",
    "        print(\"Flying in the sky\")\n",
    "class FlyingCar(Car, Airplane):\n",
    "    def drive_fly(self):\n",
    "        print(\"Driving and flying\")\n",
    "flying_car = FlyingCar()\n",
    "flying_car.drive()\n",
    "flying_car.fly()\n",
    "flying_car.drive_fly()"
   ]
  },
  {
   "cell_type": "markdown",
   "metadata": {},
   "source": [
    "## Q2"
   ]
  },
  {
   "cell_type": "code",
   "execution_count": 8,
   "metadata": {},
   "outputs": [
    {
     "name": "stdout",
     "output_type": "stream",
     "text": [
      "Precision: 0.50\n",
      "Recall: 0.33\n"
     ]
    }
   ],
   "source": [
    "import numpy as np\n",
    "def confusion_matrix(actual, pred):\n",
    "    TP = sum((actual == 1) & (pred == 1))\n",
    "    TN = sum((actual == 0) & (pred == 0))\n",
    "    FP = sum((actual == 0) & (pred == 1))\n",
    "    FN = sum((actual == 1) & (pred == 0))\n",
    "    return TP, TN, FP, FN\n",
    "def precision_recall(actual, pred):\n",
    "    TP, TN, FP, FN = confusion_matrix(np.array(actual), np.array(pred))\n",
    "    precision = TP / (TP + FP) if (TP + FP) > 0 else 0\n",
    "    recall = TP / (TP + FN) if (TP + FN) > 0 else 0\n",
    "    return precision, recall\n",
    "actual = [0, 1, 0, 1, 1]\n",
    "pred = [0, 1, 1, 0, 0]\n",
    "precision, recall = precision_recall(actual, pred)\n",
    "print(f\"Precision: {precision:.2f}\")\n",
    "print(f\"Recall: {recall:.2f}\")"
   ]
  },
  {
   "cell_type": "markdown",
   "metadata": {},
   "source": [
    "## Q3"
   ]
  },
  {
   "cell_type": "markdown",
   "metadata": {},
   "source": [
    "tp=1,fp=1,tn=1,fn=2"
   ]
  }
 ],
 "metadata": {
  "kernelspec": {
   "display_name": "Python 3",
   "language": "python",
   "name": "python3"
  },
  "language_info": {
   "codemirror_mode": {
    "name": "ipython",
    "version": 3
   },
   "file_extension": ".py",
   "mimetype": "text/x-python",
   "name": "python",
   "nbconvert_exporter": "python",
   "pygments_lexer": "ipython3",
   "version": "3.11.9"
  },
  "orig_nbformat": 4
 },
 "nbformat": 4,
 "nbformat_minor": 2
}
