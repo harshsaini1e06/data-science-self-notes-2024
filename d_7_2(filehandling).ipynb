{
 "cells": [
  {
   "cell_type": "code",
   "execution_count": 2,
   "metadata": {},
   "outputs": [
    {
     "ename": "TypeError",
     "evalue": "'exist_ok' is an invalid keyword argument for open()",
     "output_type": "error",
     "traceback": [
      "\u001b[1;31m---------------------------------------------------------------------------\u001b[0m",
      "\u001b[1;31mTypeError\u001b[0m                                 Traceback (most recent call last)",
      "Cell \u001b[1;32mIn[2], line 1\u001b[0m\n\u001b[1;32m----> 1\u001b[0m \u001b[39mopen\u001b[39;49m(\u001b[39m'\u001b[39;49m\u001b[39mmy.txt\u001b[39;49m\u001b[39m'\u001b[39;49m,\u001b[39m'\u001b[39;49m\u001b[39mx\u001b[39;49m\u001b[39m'\u001b[39;49m, exist_ok\u001b[39m=\u001b[39;49m\u001b[39mTrue\u001b[39;49;00m)\n",
      "File \u001b[1;32m~\\AppData\\Roaming\\Python\\Python311\\site-packages\\IPython\\core\\interactiveshell.py:324\u001b[0m, in \u001b[0;36m_modified_open\u001b[1;34m(file, *args, **kwargs)\u001b[0m\n\u001b[0;32m    317\u001b[0m \u001b[39mif\u001b[39;00m file \u001b[39min\u001b[39;00m {\u001b[39m0\u001b[39m, \u001b[39m1\u001b[39m, \u001b[39m2\u001b[39m}:\n\u001b[0;32m    318\u001b[0m     \u001b[39mraise\u001b[39;00m \u001b[39mValueError\u001b[39;00m(\n\u001b[0;32m    319\u001b[0m         \u001b[39mf\u001b[39m\u001b[39m\"\u001b[39m\u001b[39mIPython won\u001b[39m\u001b[39m'\u001b[39m\u001b[39mt let you open fd=\u001b[39m\u001b[39m{\u001b[39;00mfile\u001b[39m}\u001b[39;00m\u001b[39m by default \u001b[39m\u001b[39m\"\u001b[39m\n\u001b[0;32m    320\u001b[0m         \u001b[39m\"\u001b[39m\u001b[39mas it is likely to crash IPython. If you know what you are doing, \u001b[39m\u001b[39m\"\u001b[39m\n\u001b[0;32m    321\u001b[0m         \u001b[39m\"\u001b[39m\u001b[39myou can use builtins\u001b[39m\u001b[39m'\u001b[39m\u001b[39m open.\u001b[39m\u001b[39m\"\u001b[39m\n\u001b[0;32m    322\u001b[0m     )\n\u001b[1;32m--> 324\u001b[0m \u001b[39mreturn\u001b[39;00m io_open(file, \u001b[39m*\u001b[39;49margs, \u001b[39m*\u001b[39;49m\u001b[39m*\u001b[39;49mkwargs)\n",
      "\u001b[1;31mTypeError\u001b[0m: 'exist_ok' is an invalid keyword argument for open()"
     ]
    }
   ],
   "source": [
    "open('my.txt','x')"
   ]
  },
  {
   "cell_type": "code",
   "execution_count": 3,
   "metadata": {},
   "outputs": [],
   "source": [
    "file = open('mee.txt','w')"
   ]
  },
  {
   "cell_type": "code",
   "execution_count": 4,
   "metadata": {},
   "outputs": [],
   "source": [
    "data = \"hello i am here\""
   ]
  },
  {
   "cell_type": "code",
   "execution_count": 5,
   "metadata": {},
   "outputs": [
    {
     "data": {
      "text/plain": [
       "15"
      ]
     },
     "execution_count": 5,
     "metadata": {},
     "output_type": "execute_result"
    }
   ],
   "source": [
    "file.write(data)"
   ]
  },
  {
   "cell_type": "code",
   "execution_count": 6,
   "metadata": {},
   "outputs": [],
   "source": [
    "file = open ('mee.txt','w')\n"
   ]
  },
  {
   "cell_type": "code",
   "execution_count": 7,
   "metadata": {},
   "outputs": [],
   "source": [
    "file = open ('my.txt','w')\n"
   ]
  },
  {
   "cell_type": "code",
   "execution_count": 8,
   "metadata": {},
   "outputs": [],
   "source": [
    "data2 = \"hey\"\n"
   ]
  },
  {
   "cell_type": "code",
   "execution_count": 9,
   "metadata": {},
   "outputs": [
    {
     "data": {
      "text/plain": [
       "3"
      ]
     },
     "execution_count": 9,
     "metadata": {},
     "output_type": "execute_result"
    }
   ],
   "source": [
    "file.write(data2)\n"
   ]
  },
  {
   "cell_type": "code",
   "execution_count": 10,
   "metadata": {},
   "outputs": [],
   "source": [
    "file = open ('my.txt','r')\n"
   ]
  },
  {
   "cell_type": "code",
   "execution_count": 11,
   "metadata": {},
   "outputs": [],
   "source": [
    "import os\n"
   ]
  },
  {
   "cell_type": "code",
   "execution_count": 12,
   "metadata": {},
   "outputs": [],
   "source": [
    "path_var = r\"C:\\Users\\91992\\OneDrive\\Desktop\\New folder\""
   ]
  },
  {
   "cell_type": "code",
   "execution_count": 13,
   "metadata": {},
   "outputs": [
    {
     "name": "stdout",
     "output_type": "stream",
     "text": [
      "C:\\Users\\91992\\OneDrive\\Desktop\\New folder\n"
     ]
    }
   ],
   "source": [
    "os.chdir(path_var)\n",
    "print (os.getcwd())"
   ]
  },
  {
   "cell_type": "code",
   "execution_count": null,
   "metadata": {},
   "outputs": [
    {
     "data": {
      "text/plain": [
       "['Assignment2.py',\n",
       " 'assignment_6.py',\n",
       " 'd6.py',\n",
       " 'data.ipynb',\n",
       " 'datatype.py',\n",
       " 'demo.py',\n",
       " 'DEMO2.PY',\n",
       " 'demo3.py',\n",
       " 'd_7.py',\n",
       " 'd_7_2(filehandling).ipynb',\n",
       " 'jason',\n",
       " 'jecr',\n",
       " 'jecrc',\n",
       " 'loops.py',\n",
       " 'me.txt',\n",
       " 'mee.txt',\n",
       " 'my.txt',\n",
       " 'quiz_1.py',\n",
       " 'speech.ipynb',\n",
       " 'Speech_Recognition.ipynb',\n",
       " 'sum.py',\n",
       " 'sum_2.py',\n",
       " 'v_atm.py',\n",
       " '_1.py',\n",
       " '__pycache__']"
      ]
     },
     "execution_count": 13,
     "metadata": {},
     "output_type": "execute_result"
    }
   ],
   "source": [
    "os.listdir()"
   ]
  },
  {
   "cell_type": "code",
   "execution_count": 15,
   "metadata": {},
   "outputs": [],
   "source": [
    "# file = open('my.txt','a')\n",
    "# data = \"all are present\"\n",
    "# file.write()"
   ]
  },
  {
   "cell_type": "code",
   "execution_count": 16,
   "metadata": {},
   "outputs": [],
   "source": [
    "file = open('my.txt','a')\n",
    "data = \"\\nif all present\"\n",
    "file.write(data)\n",
    "file.close()"
   ]
  },
  {
   "cell_type": "code",
   "execution_count": null,
   "metadata": {},
   "outputs": [],
   "source": [
    "# create a function 'write' in which we create a file and store a data in which by using loops and functions \n",
    "\n"
   ]
  },
  {
   "cell_type": "code",
   "execution_count": 17,
   "metadata": {},
   "outputs": [
    {
     "data": {
      "text/plain": [
       "'C:\\\\Users\\\\91992\\\\OneDrive\\\\Desktop\\\\New folder'"
      ]
     },
     "execution_count": 17,
     "metadata": {},
     "output_type": "execute_result"
    }
   ],
   "source": [
    "pwd\n"
   ]
  },
  {
   "cell_type": "code",
   "execution_count": 18,
   "metadata": {},
   "outputs": [],
   "source": [
    "for i in range (21,24):\n",
    "    os.makedirs(str(i))"
   ]
  },
  {
   "cell_type": "code",
   "execution_count": null,
   "metadata": {},
   "outputs": [
    {
     "data": {
      "text/plain": [
       "['1',\n",
       " '10',\n",
       " '11',\n",
       " '12',\n",
       " '13',\n",
       " '14',\n",
       " '15',\n",
       " '16',\n",
       " '17',\n",
       " '18',\n",
       " '19',\n",
       " '2',\n",
       " '21',\n",
       " '22',\n",
       " '23',\n",
       " '3',\n",
       " '4',\n",
       " '5',\n",
       " '6',\n",
       " '7',\n",
       " '8',\n",
       " '9',\n",
       " 'Assignment2.py',\n",
       " 'assignment_6.py',\n",
       " 'd6.py',\n",
       " 'data.ipynb',\n",
       " 'datatype.py',\n",
       " 'demo.py',\n",
       " 'DEMO2.PY',\n",
       " 'demo3.py',\n",
       " 'd_7.py',\n",
       " 'd_7_2(filehandling).ipynb',\n",
       " 'jason',\n",
       " 'jecr',\n",
       " 'jecrc',\n",
       " 'loops.py',\n",
       " 'me.txt',\n",
       " 'mee.txt',\n",
       " 'my.txt',\n",
       " 'quiz_1.py',\n",
       " 'speech.ipynb',\n",
       " 'Speech_Recognition.ipynb',\n",
       " 'sum.py',\n",
       " 'sum_2.py',\n",
       " 'v_atm.py',\n",
       " '_1.py',\n",
       " '__pycache__']"
      ]
     },
     "execution_count": 27,
     "metadata": {},
     "output_type": "execute_result"
    }
   ],
   "source": [
    "os.listdir()\n"
   ]
  },
  {
   "cell_type": "code",
   "execution_count": 19,
   "metadata": {},
   "outputs": [
    {
     "ename": "FileExistsError",
     "evalue": "[Errno 17] File exists: 'hello.txt'",
     "output_type": "error",
     "traceback": [
      "\u001b[1;31m---------------------------------------------------------------------------\u001b[0m",
      "\u001b[1;31mFileExistsError\u001b[0m                           Traceback (most recent call last)",
      "Cell \u001b[1;32mIn[19], line 4\u001b[0m\n\u001b[0;32m      2\u001b[0m     \u001b[39mprint\u001b[39m (\u001b[39m\"\u001b[39m\u001b[39mfile already present\u001b[39m\u001b[39m\"\u001b[39m)\n\u001b[0;32m      3\u001b[0m \u001b[39melse\u001b[39;00m:\n\u001b[1;32m----> 4\u001b[0m     \u001b[39mopen\u001b[39;49m(\u001b[39m'\u001b[39;49m\u001b[39mhello.txt\u001b[39;49m\u001b[39m'\u001b[39;49m,\u001b[39m'\u001b[39;49m\u001b[39mx\u001b[39;49m\u001b[39m'\u001b[39;49m)\n\u001b[0;32m      5\u001b[0m     \u001b[39mprint\u001b[39m (\u001b[39m\"\u001b[39m\u001b[39mfile is created\u001b[39m\u001b[39m\"\u001b[39m)\n",
      "File \u001b[1;32m~\\AppData\\Roaming\\Python\\Python311\\site-packages\\IPython\\core\\interactiveshell.py:324\u001b[0m, in \u001b[0;36m_modified_open\u001b[1;34m(file, *args, **kwargs)\u001b[0m\n\u001b[0;32m    317\u001b[0m \u001b[39mif\u001b[39;00m file \u001b[39min\u001b[39;00m {\u001b[39m0\u001b[39m, \u001b[39m1\u001b[39m, \u001b[39m2\u001b[39m}:\n\u001b[0;32m    318\u001b[0m     \u001b[39mraise\u001b[39;00m \u001b[39mValueError\u001b[39;00m(\n\u001b[0;32m    319\u001b[0m         \u001b[39mf\u001b[39m\u001b[39m\"\u001b[39m\u001b[39mIPython won\u001b[39m\u001b[39m'\u001b[39m\u001b[39mt let you open fd=\u001b[39m\u001b[39m{\u001b[39;00mfile\u001b[39m}\u001b[39;00m\u001b[39m by default \u001b[39m\u001b[39m\"\u001b[39m\n\u001b[0;32m    320\u001b[0m         \u001b[39m\"\u001b[39m\u001b[39mas it is likely to crash IPython. If you know what you are doing, \u001b[39m\u001b[39m\"\u001b[39m\n\u001b[0;32m    321\u001b[0m         \u001b[39m\"\u001b[39m\u001b[39myou can use builtins\u001b[39m\u001b[39m'\u001b[39m\u001b[39m open.\u001b[39m\u001b[39m\"\u001b[39m\n\u001b[0;32m    322\u001b[0m     )\n\u001b[1;32m--> 324\u001b[0m \u001b[39mreturn\u001b[39;00m io_open(file, \u001b[39m*\u001b[39;49margs, \u001b[39m*\u001b[39;49m\u001b[39m*\u001b[39;49mkwargs)\n",
      "\u001b[1;31mFileExistsError\u001b[0m: [Errno 17] File exists: 'hello.txt'"
     ]
    }
   ],
   "source": [
    "if os.path.exists('myj.txt'):\n",
    "    print (\"file already present\")\n",
    "else:\n",
    "    open('hello.txt','x')\n",
    "    print (\"file is created\")"
   ]
  },
  {
   "cell_type": "code",
   "execution_count": 20,
   "metadata": {},
   "outputs": [
    {
     "data": {
      "text/plain": [
       "'C:\\\\Users\\\\91992\\\\OneDrive\\\\Desktop\\\\New folder'"
      ]
     },
     "execution_count": 20,
     "metadata": {},
     "output_type": "execute_result"
    }
   ],
   "source": [
    "os.getcwd()"
   ]
  },
  {
   "cell_type": "code",
   "execution_count": 21,
   "metadata": {},
   "outputs": [],
   "source": [
    "os.chdir(r\"C:\\Users\\91992\\Pictures\\Screenshots\\New folder\")"
   ]
  },
  {
   "cell_type": "code",
   "execution_count": null,
   "metadata": {},
   "outputs": [
    {
     "data": {
      "text/plain": [
       "['pexels-cameron-casey-1722179.jpg',\n",
       " 'pexels-chi-hou-ong-1208986.jpg',\n",
       " 'pexels-ck-lacandazo-2887890.jpg',\n",
       " 'pexels-george-desipris-844491.jpg',\n",
       " 'pexels-pixabay-315938.jpg',\n",
       " 'pexels-quang-nguyen-vinh-2171326.jpg',\n",
       " 'pexels-sebastiaan-stam-1545732.jpg',\n",
       " 'pexels-stevan-aksentijevic-2076684.jpg',\n",
       " 'pexels-никита-к-2110109.jpg',\n",
       " 'Screenshot (101).png',\n",
       " 'Screenshot (102).png',\n",
       " 'Screenshot (103).png',\n",
       " 'Screenshot (104).png',\n",
       " 'Screenshot (105).png',\n",
       " 'Screenshot (106).png',\n",
       " 'Screenshot (109).png',\n",
       " 'Screenshot (110).png',\n",
       " 'Screenshot (112).png',\n",
       " 'Screenshot (114).png',\n",
       " 'Screenshot (115).png',\n",
       " 'Screenshot (116).png',\n",
       " 'Screenshot (118).png',\n",
       " 'Screenshot (119).png',\n",
       " 'Screenshot (121).png',\n",
       " 'Screenshot (125).png',\n",
       " 'Screenshot (126).png',\n",
       " 'Screenshot (128).png',\n",
       " 'Screenshot (130).png',\n",
       " 'Screenshot (131).png',\n",
       " 'Screenshot (136).png',\n",
       " 'Screenshot (137).png',\n",
       " 'Screenshot (138).png',\n",
       " 'Screenshot (139).png',\n",
       " 'Screenshot (140).png',\n",
       " 'Screenshot (141).png',\n",
       " 'Screenshot (142).png',\n",
       " 'Screenshot (143).png',\n",
       " 'Screenshot (144).png',\n",
       " 'Screenshot (145).png',\n",
       " 'Screenshot (146).png',\n",
       " 'Screenshot (147).png',\n",
       " 'Screenshot (149).png',\n",
       " 'Screenshot (151).png',\n",
       " 'Screenshot (153).png',\n",
       " 'Screenshot (154).png',\n",
       " 'Screenshot (155).png',\n",
       " 'Screenshot (160).png',\n",
       " 'Screenshot (161).png',\n",
       " 'Screenshot (164).png',\n",
       " 'Screenshot (166).png',\n",
       " 'Screenshot (168).png',\n",
       " 'Screenshot (169).png',\n",
       " 'Screenshot (170).png',\n",
       " 'Screenshot (171).png',\n",
       " 'Screenshot (173).png',\n",
       " 'Screenshot (174).png',\n",
       " 'Screenshot (175).png',\n",
       " 'Screenshot (176).png',\n",
       " 'Screenshot (177).png',\n",
       " 'Screenshot (178).png',\n",
       " 'Screenshot (179).png',\n",
       " 'Screenshot (180).png',\n",
       " 'Screenshot (181).png',\n",
       " 'Screenshot (183).png',\n",
       " 'Screenshot (184).png',\n",
       " 'Screenshot (185).png',\n",
       " 'Screenshot (186).png',\n",
       " 'Screenshot (188).png',\n",
       " 'Screenshot (189).png',\n",
       " 'Screenshot (190).png',\n",
       " 'Screenshot (192).png',\n",
       " 'Screenshot (193).png',\n",
       " 'Screenshot (194).png',\n",
       " 'Screenshot (195).png',\n",
       " 'Screenshot (196).png',\n",
       " 'Screenshot (197).png',\n",
       " 'Screenshot (199).png',\n",
       " 'Screenshot (200).png',\n",
       " 'Screenshot (201).png',\n",
       " 'Screenshot (202).png',\n",
       " 'Screenshot (203).png',\n",
       " 'Screenshot (204).png',\n",
       " 'Screenshot (205).png',\n",
       " 'Screenshot (206).png',\n",
       " 'Screenshot (207).png',\n",
       " 'Screenshot (208).png',\n",
       " 'Screenshot (209).png',\n",
       " 'Screenshot (210).png',\n",
       " 'Screenshot (211).png',\n",
       " 'Screenshot (212).png',\n",
       " 'Screenshot (213).png',\n",
       " 'Screenshot (215).png',\n",
       " 'Screenshot (216).png',\n",
       " 'Screenshot (218).png',\n",
       " 'Screenshot (219).png',\n",
       " 'Screenshot (221).png',\n",
       " 'Screenshot (222).png',\n",
       " 'Screenshot (223).png',\n",
       " 'Screenshot (224).png',\n",
       " 'Screenshot (226).png',\n",
       " 'Screenshot (229).png',\n",
       " 'Screenshot (230).png',\n",
       " 'Screenshot (231).png',\n",
       " 'Screenshot (232).png',\n",
       " 'Screenshot (234).png',\n",
       " 'Screenshot (238).png',\n",
       " 'Screenshot (239).png',\n",
       " 'Screenshot (240).png',\n",
       " 'Screenshot (242).png',\n",
       " 'Screenshot (243).png',\n",
       " 'Screenshot (246).png',\n",
       " 'Screenshot (249).png',\n",
       " 'Screenshot (250).png',\n",
       " 'Screenshot (252).png',\n",
       " 'Screenshot (254).png',\n",
       " 'Screenshot (255).png',\n",
       " 'Screenshot (257).png',\n",
       " 'Screenshot (259).png',\n",
       " 'Screenshot (260).png',\n",
       " 'Screenshot (261).png',\n",
       " 'Screenshot (262).png',\n",
       " 'Screenshot (264).png',\n",
       " 'Screenshot (266).png',\n",
       " 'Screenshot (267).png',\n",
       " 'Screenshot (268).png',\n",
       " 'Screenshot (269).png',\n",
       " 'Screenshot (271).png',\n",
       " 'Screenshot (272).png',\n",
       " 'Screenshot (273).png',\n",
       " 'Screenshot (274).png',\n",
       " 'Screenshot (275).png',\n",
       " 'Screenshot (276).png',\n",
       " 'Screenshot (277).png',\n",
       " 'Screenshot (278).png',\n",
       " 'Screenshot (280).png',\n",
       " 'Screenshot (283).png',\n",
       " 'Screenshot (287).png',\n",
       " 'Screenshot (288).png',\n",
       " 'Screenshot (289).png',\n",
       " 'Screenshot (293).png',\n",
       " 'Screenshot (294).png',\n",
       " 'Screenshot (295).png',\n",
       " 'Screenshot (296).png',\n",
       " 'Screenshot (299).png',\n",
       " 'Screenshot (306).png',\n",
       " 'Screenshot (309).png',\n",
       " 'Screenshot (310).png',\n",
       " 'Screenshot (35).png',\n",
       " 'Screenshot (36).png',\n",
       " 'Screenshot (38).png',\n",
       " 'Screenshot (39).png',\n",
       " 'Screenshot (40).png',\n",
       " 'Screenshot (85).png',\n",
       " 'Screenshot (87).png',\n",
       " 'Screenshot (88).png',\n",
       " 'Screenshot (89).png',\n",
       " 'Screenshot (90).png',\n",
       " 'Screenshot (92).png',\n",
       " 'Screenshot (93).png',\n",
       " 'Screenshot (95).png',\n",
       " 'Screenshot (96).png',\n",
       " 'Screenshot (97).png',\n",
       " 'Screenshot (98).png',\n",
       " 'Screenshot (99).png']"
      ]
     },
     "execution_count": 34,
     "metadata": {},
     "output_type": "execute_result"
    }
   ],
   "source": [
    "os.listdir()"
   ]
  },
  {
   "cell_type": "code",
   "execution_count": 22,
   "metadata": {},
   "outputs": [],
   "source": [
    "name_1 = os.listdir()"
   ]
  },
  {
   "cell_type": "code",
   "execution_count": 23,
   "metadata": {},
   "outputs": [
    {
     "data": {
      "text/plain": [
       "164"
      ]
     },
     "execution_count": 23,
     "metadata": {},
     "output_type": "execute_result"
    }
   ],
   "source": [
    "len(name_1)"
   ]
  },
  {
   "cell_type": "code",
   "execution_count": 31,
   "metadata": {},
   "outputs": [
    {
     "data": {
      "text/plain": [
       "'pexels-ck-lacandazo-2887890.jpg'"
      ]
     },
     "execution_count": 31,
     "metadata": {},
     "output_type": "execute_result"
    }
   ],
   "source": [
    "name_1[2]"
   ]
  },
  {
   "cell_type": "code",
   "execution_count": 25,
   "metadata": {},
   "outputs": [],
   "source": [
    "for image_paths in name_1:\n",
    "    os.path.join(r\"C:\\Users\\91992\\Pictures\\Screenshots\\New folder\",image_paths)\n"
   ]
  },
  {
   "cell_type": "code",
   "execution_count": 32,
   "metadata": {},
   "outputs": [
    {
     "data": {
      "text/plain": [
       "'C:\\\\Users\\\\91992\\\\Pictures\\\\Screenshots\\\\New folder\\\\pexels-ck-lacandazo-2887890.jpg'"
      ]
     },
     "execution_count": 32,
     "metadata": {},
     "output_type": "execute_result"
    }
   ],
   "source": [
    "os.path.join (r\"C:\\Users\\91992\\Pictures\\Screenshots\\New folder\",\"pexels-ck-lacandazo-2887890.jpg\")"
   ]
  },
  {
   "cell_type": "code",
   "execution_count": null,
   "metadata": {},
   "outputs": [],
   "source": []
  }
 ],
 "metadata": {
  "kernelspec": {
   "display_name": "Python 3",
   "language": "python",
   "name": "python3"
  },
  "language_info": {
   "codemirror_mode": {
    "name": "ipython",
    "version": 3
   },
   "file_extension": ".py",
   "mimetype": "text/x-python",
   "name": "python",
   "nbconvert_exporter": "python",
   "pygments_lexer": "ipython3",
   "version": "3.11.9"
  },
  "orig_nbformat": 4
 },
 "nbformat": 4,
 "nbformat_minor": 2
}
