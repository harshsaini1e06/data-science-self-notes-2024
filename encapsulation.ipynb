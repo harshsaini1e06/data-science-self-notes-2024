{
 "cells": [
  {
   "cell_type": "code",
   "execution_count": 12,
   "metadata": {},
   "outputs": [
    {
     "name": "stdout",
     "output_type": "stream",
     "text": [
      "harsh saini\n",
      "mohit sharma\n"
     ]
    },
    {
     "data": {
      "text/plain": [
       "{'employee_1': 'harsh saini',\n",
       " 'employee_2': 'mohit sharma',\n",
       " 'employee_3': '123456sharma',\n",
       " 'employee_4': 'dfgvhb',\n",
       " '_Manager__manager': 'sallu bhai',\n",
       " '_Manager__manager_id': '123456789'}"
      ]
     },
     "execution_count": 12,
     "metadata": {},
     "output_type": "execute_result"
    }
   ],
   "source": [
    "class Manager:\n",
    "    def __init__(self):\n",
    "        self.employee_1 = 'harsh saini'\n",
    "        self.employee_2 = 'mohit sharma'\n",
    "        self.employee_3 = '123456sharma'\n",
    "        self.employee_4 = 'dfgvhb'\n",
    "\n",
    "        self.__manager = \"sallu bhai\"\n",
    "        self.__manager_id = \"123456789\" # using single underscore (_) represent protected variable while double underscore represent the private variable\n",
    "        # protected variable is accessed in sub class\n",
    "\n",
    "\n",
    "class Employee(Manager):\n",
    "    def employee_hii(self):\n",
    "        print(self.employee_1)\n",
    "        print(self.employee_2)\n",
    "\n",
    "    def manager_hii(self):\n",
    "        print(self._manager)\n",
    "        print(self._manager_id) # execution of protected variable in sub class \n",
    "\n",
    "obj = Employee()\n",
    "obj.employee_hii()\n",
    "# obj.manager_hii()\n",
    "obj.__dict__"
   ]
  },
  {
   "cell_type": "code",
   "execution_count": 11,
   "metadata": {},
   "outputs": [
    {
     "data": {
      "text/plain": [
       "{'employee_1': 'harsh saini',\n",
       " 'employee_2': 'mohit sharma',\n",
       " 'employee_3': '123456sharma',\n",
       " 'employee_4': 'dfgvhb'}"
      ]
     },
     "execution_count": 11,
     "metadata": {},
     "output_type": "execute_result"
    }
   ],
   "source": [
    "class Student(object):\n",
    "    def __init__(self):\n",
    "        self.employee_1 = 'harsh saini'\n",
    "        self.employee_2 = 'mohit sharma'\n",
    "        self.employee_3 = '123456sharma'\n",
    "        self.employee_4 = 'dfgvhb'\n",
    "\n",
    "\n",
    "obj = Student()\n",
    "obj.__dict__"
   ]
  },
  {
   "cell_type": "code",
   "execution_count": null,
   "metadata": {},
   "outputs": [],
   "source": []
  }
 ],
 "metadata": {
  "kernelspec": {
   "display_name": "Python 3",
   "language": "python",
   "name": "python3"
  },
  "language_info": {
   "codemirror_mode": {
    "name": "ipython",
    "version": 3
   },
   "file_extension": ".py",
   "mimetype": "text/x-python",
   "name": "python",
   "nbconvert_exporter": "python",
   "pygments_lexer": "ipython3",
   "version": "3.11.9"
  },
  "orig_nbformat": 4
 },
 "nbformat": 4,
 "nbformat_minor": 2
}
